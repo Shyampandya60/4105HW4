{
  "nbformat": 4,
  "nbformat_minor": 0,
  "metadata": {
    "colab": {
      "provenance": []
    },
    "kernelspec": {
      "name": "python3",
      "display_name": "Python 3"
    },
    "language_info": {
      "name": "python"
    }
  },
  "cells": [
    {
      "cell_type": "code",
      "execution_count": null,
      "metadata": {
        "id": "aNdZcWV_j8Ym"
      },
      "outputs": [],
      "source": [
        "import pandas as pd\n",
        "from sklearn.model_selection import train_test_split\n",
        "from sklearn.decomposition import PCA\n",
        "from sklearn.svm import SVC\n",
        "from sklearn.metrics import accuracy_score, precision_score, recall_score\n",
        "\n",
        "# Load the dataset\n",
        "cancer_df = pd.read_csv('cancer.csv')\n",
        "\n",
        "# Split the dataset into features and labels\n",
        "X = cancer_df.drop('type', axis=1)\n",
        "y = cancer_df['type']\n",
        "\n",
        "# Split the dataset into training and testing sets\n",
        "X_train, X_test, y_train, y_test = train_test_split(X, y, test_size=0.2, random_state=42)\n",
        "\n",
        "# Apply PCA to the training set to reduce the dimensionality\n",
        "pca = PCA(n_components=10)\n",
        "X_train_pca = pca.fit_transform(X_train)\n",
        "X_test_pca = pca.transform(X_test)\n",
        "\n",
        "# Train the SVM classifier on the reduced training set\n",
        "svm = SVC(kernel='linear', C=1, gamma='auto')\n",
        "svm.fit(X_train_pca, y_train)\n",
        "\n",
        "# Test the classifier on the testing set and evaluate its performance\n",
        "y_pred = svm.predict(X_test_pca)\n",
        "accuracy = accuracy_score(y_test, y_pred)\n",
        "precision = precision_score(y_test, y_pred, pos_label='M')\n",
        "recall = recall_score(y_test, y_pred, pos_label='M')\n",
        "\n",
        "# Print the evaluation metrics\n",
        "print('Accuracy:', accuracy)\n",
        "print('Precision:', precision)\n",
        "print('Recall:', recall)\n"
      ]
    },
    {
      "cell_type": "code",
      "source": [
        "import pandas as pd\n",
        "import numpy as np\n",
        "from sklearn.model_selection import train_test_split\n",
        "from sklearn.decomposition import PCA\n",
        "from sklearn.svm import SVR\n",
        "from sklearn.metrics import mean_squared_error\n",
        "import matplotlib.pyplot as plt\n",
        "\n",
        "# Load the dataset\n",
        "housing_df = pd.read_csv('housing.csv')\n",
        "\n",
        "# Split the dataset into features and labels\n",
        "X = housing_df.drop('price', axis=1)\n",
        "y = housing_df['price']\n",
        "\n",
        "# Split the dataset into training and testing sets\n",
        "X_train, X_test, y_train, y_test = train_test_split(X, y, test_size=0.2, random_state=42)\n",
        "\n",
        "# Apply PCA to the training set to reduce the dimensionality\n",
        "pca = PCA(n_components=10)\n",
        "X_train_pca = pca.fit_transform(X_train)\n",
        "X_test_pca = pca.transform(X_test)\n",
        "\n",
        "# Train the SVR model on the reduced training set\n",
        "svr = SVR(kernel='linear', C=1, epsilon=0.1)\n",
        "svr.fit(X_train_pca, y_train)\n",
        "\n",
        "# Test the model on the testing set and evaluate its performance\n",
        "y_pred = svr.predict(X_test_pca)\n",
        "mse = mean_squared_error(y_test, y_pred)\n",
        "rmse = np.sqrt(mse)\n",
        "\n",
        "# Plot the predicted vs. actual values\n",
        "plt.scatter(y_test, y_pred)\n",
        "plt.xlabel('Actual Price')\n",
        "plt.ylabel('Predicted Price')\n",
        "plt.title('SVR Regression')\n",
        "plt.show()\n",
        "\n",
        "# Print the evaluation metrics\n",
        "print('Root Mean Squared Error:', rmse)\n"
      ],
      "metadata": {
        "id": "Ma-CzrWQkF6y"
      },
      "execution_count": null,
      "outputs": []
    }
  ]
}